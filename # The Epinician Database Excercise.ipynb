{
 "cells": [
  {
   "cell_type": "markdown",
   "id": "f6cb143b",
   "metadata": {},
   "source": [
    "# The Epinician Database Excersice\n",
    "\n",
    "For the A3 exercise I have decided to use my own database of Epinician poetry. This was a genre of ancient Greek poetry during mostly the early 4th century B.C. This type of poetry was specifically dedicated to an athlete winning a crown competition (such as the Olympics). In this database I have collected information on the victors of these competitions, their home city, the dating of the poems (wherever possible) and the myths mentioned. Lastly I've included references and links to the RUG's Connected Contests Database when Athletes were mentioned there. Disclaimer: I've made this database in 2019, so before I knew anything about proper database design. Therefore the format may be slightly rough.\n",
    "\n",
    "I will start this exercise by loading the csv file in which the database is stored and checking what is in there by looking at the basic info and a sample of the database. "
   ]
  },
  {
   "cell_type": "code",
   "execution_count": 1,
   "id": "40cda315",
   "metadata": {},
   "outputs": [],
   "source": [
    "import pandas as pd\n",
    "import csv"
   ]
  },
  {
   "cell_type": "code",
   "execution_count": 3,
   "id": "7db6ab14",
   "metadata": {
    "scrolled": true
   },
   "outputs": [
    {
     "name": "stdout",
     "output_type": "stream",
     "text": [
      "<class 'pandas.core.frame.DataFrame'>\n",
      "RangeIndex: 75 entries, 0 to 74\n",
      "Data columns (total 11 columns):\n",
      " #   Column              Non-Null Count  Dtype  \n",
      "---  ------              --------------  -----  \n",
      " 0   ID                  75 non-null     int64  \n",
      " 1   Poem                75 non-null     object \n",
      " 2   Dating (estimated)  53 non-null     float64\n",
      " 3   Author              75 non-null     object \n",
      " 4   Author origins      75 non-null     object \n",
      " 5   Victor (subject)    69 non-null     object \n",
      " 6   Victor city         69 non-null     object \n",
      " 7   Event               72 non-null     object \n",
      " 8   Focusing myth       42 non-null     object \n",
      " 9   Reference           75 non-null     object \n",
      " 10  Connected contests  32 non-null     object \n",
      "dtypes: float64(1), int64(1), object(9)\n",
      "memory usage: 6.6+ KB\n"
     ]
    }
   ],
   "source": [
    "df = pd.read_csv('Downloads/The Epinician Database.csv', delimiter=\",\")\n",
    "df.info()"
   ]
  },
  {
   "cell_type": "code",
   "execution_count": 10,
   "id": "f737ea30",
   "metadata": {},
   "outputs": [
    {
     "data": {
      "text/html": [
       "<div>\n",
       "<style scoped>\n",
       "    .dataframe tbody tr th:only-of-type {\n",
       "        vertical-align: middle;\n",
       "    }\n",
       "\n",
       "    .dataframe tbody tr th {\n",
       "        vertical-align: top;\n",
       "    }\n",
       "\n",
       "    .dataframe thead th {\n",
       "        text-align: right;\n",
       "    }\n",
       "</style>\n",
       "<table border=\"1\" class=\"dataframe\">\n",
       "  <thead>\n",
       "    <tr style=\"text-align: right;\">\n",
       "      <th></th>\n",
       "      <th>ID</th>\n",
       "      <th>Poem</th>\n",
       "      <th>Dating (estimated)</th>\n",
       "      <th>Author</th>\n",
       "      <th>Author origins</th>\n",
       "      <th>Victor (subject)</th>\n",
       "      <th>Victor city</th>\n",
       "      <th>Event</th>\n",
       "      <th>Focusing myth</th>\n",
       "      <th>Reference</th>\n",
       "      <th>Connected contests</th>\n",
       "    </tr>\n",
       "  </thead>\n",
       "  <tbody>\n",
       "    <tr>\n",
       "      <th>9</th>\n",
       "      <td>19</td>\n",
       "      <td>Isthmian 5</td>\n",
       "      <td>-480.0</td>\n",
       "      <td>Pindar</td>\n",
       "      <td>Thebes, Boeotia</td>\n",
       "      <td>Phylacides of Aegina</td>\n",
       "      <td>Aegina, Aegina</td>\n",
       "      <td>Pancration</td>\n",
       "      <td>Aeacidae, Achilles</td>\n",
       "      <td>Bowra, Pindar, 406-413. Race (ed &amp; trans), Ist...</td>\n",
       "      <td>http://connectedcontests.org/database/persons/...</td>\n",
       "    </tr>\n",
       "    <tr>\n",
       "      <th>54</th>\n",
       "      <td>64</td>\n",
       "      <td>Bacch. 10</td>\n",
       "      <td>NaN</td>\n",
       "      <td>Bacchylides</td>\n",
       "      <td>Ioulis, Keos</td>\n",
       "      <td>Aglaos of Athens</td>\n",
       "      <td>Athens, Attica</td>\n",
       "      <td>Foot-race</td>\n",
       "      <td>NaN</td>\n",
       "      <td>Jebb, Bacchylides, 207-208.</td>\n",
       "      <td>NaN</td>\n",
       "    </tr>\n",
       "    <tr>\n",
       "      <th>43</th>\n",
       "      <td>53</td>\n",
       "      <td>Nemean 11</td>\n",
       "      <td>-446.0</td>\n",
       "      <td>Pindar</td>\n",
       "      <td>Thebes, Boeotia</td>\n",
       "      <td>Aristagoras of Tenedos</td>\n",
       "      <td>Tenedos, Aegean Island</td>\n",
       "      <td>Inauguration as Prytanis</td>\n",
       "      <td>NaN</td>\n",
       "      <td>Bowra, Pindar, 406-413. Race (ed &amp; trans), Nem...</td>\n",
       "      <td>NaN</td>\n",
       "    </tr>\n",
       "    <tr>\n",
       "      <th>23</th>\n",
       "      <td>33</td>\n",
       "      <td>Isthmian 3</td>\n",
       "      <td>-476.0</td>\n",
       "      <td>Pindar</td>\n",
       "      <td>Thebes, Boeotia</td>\n",
       "      <td>Melissus of Thebes</td>\n",
       "      <td>Thebes, Boeotia</td>\n",
       "      <td>Chariot-race</td>\n",
       "      <td>NaN</td>\n",
       "      <td>Bowra, Pindar, 406-413. Race (ed &amp; trans), Ist...</td>\n",
       "      <td>http://connectedcontests.org/database/persons/...</td>\n",
       "    </tr>\n",
       "    <tr>\n",
       "      <th>40</th>\n",
       "      <td>50</td>\n",
       "      <td>Olympian 5</td>\n",
       "      <td>-448.0</td>\n",
       "      <td>Pindar</td>\n",
       "      <td>Thebes, Boeotia</td>\n",
       "      <td>Psaumis of Camarina</td>\n",
       "      <td>Camarina, Sicily</td>\n",
       "      <td>Chariot-race with mules</td>\n",
       "      <td>NaN</td>\n",
       "      <td>Bowra, Pindar, 406-413. Race (ed &amp; trans), Oly...</td>\n",
       "      <td>NaN</td>\n",
       "    </tr>\n",
       "  </tbody>\n",
       "</table>\n",
       "</div>"
      ],
      "text/plain": [
       "    ID         Poem  Dating (estimated)       Author   Author origins  \\\n",
       "9   19   Isthmian 5              -480.0       Pindar  Thebes, Boeotia   \n",
       "54  64   Bacch. 10                  NaN  Bacchylides     Ioulis, Keos   \n",
       "43  53    Nemean 11              -446.0       Pindar  Thebes, Boeotia   \n",
       "23  33  Isthmian 3               -476.0       Pindar  Thebes, Boeotia   \n",
       "40  50   Olympian 5              -448.0       Pindar  Thebes, Boeotia   \n",
       "\n",
       "          Victor (subject)             Victor city                     Event  \\\n",
       "9     Phylacides of Aegina          Aegina, Aegina                Pancration   \n",
       "54        Aglaos of Athens          Athens, Attica                 Foot-race   \n",
       "43  Aristagoras of Tenedos  Tenedos, Aegean Island  Inauguration as Prytanis   \n",
       "23      Melissus of Thebes         Thebes, Boeotia              Chariot-race   \n",
       "40     Psaumis of Camarina        Camarina, Sicily   Chariot-race with mules   \n",
       "\n",
       "         Focusing myth                                          Reference  \\\n",
       "9   Aeacidae, Achilles  Bowra, Pindar, 406-413. Race (ed & trans), Ist...   \n",
       "54                 NaN                        Jebb, Bacchylides, 207-208.   \n",
       "43                 NaN  Bowra, Pindar, 406-413. Race (ed & trans), Nem...   \n",
       "23                 NaN  Bowra, Pindar, 406-413. Race (ed & trans), Ist...   \n",
       "40                 NaN  Bowra, Pindar, 406-413. Race (ed & trans), Oly...   \n",
       "\n",
       "                                   Connected contests  \n",
       "9   http://connectedcontests.org/database/persons/...  \n",
       "54                                                NaN  \n",
       "43                                                NaN  \n",
       "23  http://connectedcontests.org/database/persons/...  \n",
       "40                                                NaN  "
      ]
     },
     "execution_count": 10,
     "metadata": {},
     "output_type": "execute_result"
    }
   ],
   "source": [
    "df.sample(5)"
   ]
  },
  {
   "cell_type": "markdown",
   "id": "af831c04",
   "metadata": {},
   "source": [
    "## Questions"
   ]
  },
  {
   "cell_type": "markdown",
   "id": "d4088818",
   "metadata": {},
   "source": [
    "What are the amount of poems written by each author in the database?"
   ]
  },
  {
   "cell_type": "code",
   "execution_count": 74,
   "id": "d1f363ab",
   "metadata": {},
   "outputs": [
    {
     "data": {
      "text/plain": [
       "Pindar         47\n",
       "Bacchylides    15\n",
       "Simonides      13\n",
       "Name: Author, dtype: int64"
      ]
     },
     "execution_count": 74,
     "metadata": {},
     "output_type": "execute_result"
    }
   ],
   "source": [
    "df['Author'].value_counts()"
   ]
  },
  {
   "cell_type": "markdown",
   "id": "60237778",
   "metadata": {},
   "source": [
    "Plot the (known) dating of the Epinician poems in a lineplot. "
   ]
  },
  {
   "cell_type": "code",
   "execution_count": 73,
   "id": "f5c02be2",
   "metadata": {},
   "outputs": [
    {
     "data": {
      "text/plain": [
       "<AxesSubplot:xlabel='Dating (estimated)'>"
      ]
     },
     "execution_count": 73,
     "metadata": {},
     "output_type": "execute_result"
    },
    {
     "data": {
      "image/png": "[encoded data removed]",
      "text/plain": [
       "<Figure size 432x288 with 1 Axes>"
      ]
     },
     "metadata": {
      "needs_background": "light"
     },
     "output_type": "display_data"
    }
   ],
   "source": [
    "Poems_Year = df.groupby('Dating (estimated)')['Poem'].count()\n",
    "Poems_Year.plot()\n",
    "#you can clearly see the most productive period being the 480-465 B.C."
   ]
  },
  {
   "cell_type": "markdown",
   "id": "31719711",
   "metadata": {},
   "source": [
    "Count the 10 most frequent sporting events described in the poems and visualise them using a barplot."
   ]
  },
  {
   "cell_type": "code",
   "execution_count": 58,
   "id": "6e8996e5",
   "metadata": {},
   "outputs": [
    {
     "data": {
      "text/plain": [
       "<AxesSubplot:title={'center':'Most frequent events described in Epinician poems'}>"
      ]
     },
     "execution_count": 58,
     "metadata": {},
     "output_type": "execute_result"
    },
    {
     "data": {
      "image/png": "[encoded data removed]",
      "text/plain": [
       "<Figure size 432x288 with 1 Axes>"
      ]
     },
     "metadata": {
      "needs_background": "light"
     },
     "output_type": "display_data"
    }
   ],
   "source": [
    "df['Event'].value_counts()[:10].plot(kind='barh', title='Most frequent events described in Epinician poems')"
   ]
  },
  {
   "cell_type": "markdown",
   "id": "cf57a99b",
   "metadata": {},
   "source": [
    "We know that athletic competitors from Aegina are mentioned most in the Corpus. Look up the kind of competition events the competitors won, and plot these in a pie chart. "
   ]
  },
  {
   "cell_type": "code",
   "execution_count": 70,
   "id": "589608db",
   "metadata": {},
   "outputs": [
    {
     "data": {
      "text/plain": [
       "<AxesSubplot:title={'center':'Events won by Aeginan competitors'}, ylabel='Event'>"
      ]
     },
     "execution_count": 70,
     "metadata": {},
     "output_type": "execute_result"
    },
    {
     "data": {
      "image/png": "[encoded data removed]",
      "text/plain": [
       "<Figure size 432x288 with 1 Axes>"
      ]
     },
     "metadata": {},
     "output_type": "display_data"
    }
   ],
   "source": [
    "Aegina_poems = df[df['Victor city'] == 'Aegina, Aegina']\n",
    "Aegina_poems['Event'].value_counts().plot(kind='pie', title='Events won by Aeginan competitors')"
   ]
  },
  {
   "cell_type": "markdown",
   "id": "ecffef13",
   "metadata": {},
   "source": [
    "Which Victors have Bacchylides and Pindar both written about?"
   ]
  },
  {
   "cell_type": "code",
   "execution_count": 70,
   "id": "4f77ae6b",
   "metadata": {},
   "outputs": [
    {
     "name": "stdout",
     "output_type": "stream",
     "text": [
      "['Pythias of Aegina', 'Hieron of Syracuse']\n"
     ]
    }
   ],
   "source": [
    "Pindar_subjects = df.loc[df['Author'] == 'Pindar', 'Victor (subject)']\n",
    "Bacchylides_subjects = df.loc[df['Author']== 'Bacchylides', 'Victor (subject)']\n",
    "\n",
    "Common_subjects = []\n",
    "for index, athletep in Pindar_subjects.items():\n",
    "    for index, athleteb in Bacchylides_subjects.items():\n",
    "        if athletep == athleteb:\n",
    "            Common_subjects.append(athleteb)\n",
    "\n",
    "Common_subjects = list(dict.fromkeys(Common_subjects))\n",
    "print(Common_subjects)"
   ]
  },
  {
   "cell_type": "code",
   "execution_count": null,
   "id": "4ef8dede",
   "metadata": {},
   "outputs": [],
   "source": []
  }
 ],
 "metadata": {
  "kernelspec": {
   "display_name": "Python 3",
   "language": "python",
   "name": "python3"
  },
  "language_info": {
   "codemirror_mode": {
    "name": "ipython",
    "version": 3
   },
   "file_extension": ".py",
   "mimetype": "text/x-python",
   "name": "python",
   "nbconvert_exporter": "python",
   "pygments_lexer": "ipython3",
   "version": "3.8.8"
  }
 },
 "nbformat": 4,
 "nbformat_minor": 5
}
